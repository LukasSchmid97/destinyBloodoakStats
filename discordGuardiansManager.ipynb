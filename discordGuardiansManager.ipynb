{
 "nbformat": 4,
 "nbformat_minor": 2,
 "metadata": {
  "language_info": {
   "name": "python",
   "codemirror_mode": {
    "name": "ipython",
    "version": 3
   },
   "version": "3.7.4-final"
  },
  "orig_nbformat": 2,
  "file_extension": ".py",
  "mimetype": "text/x-python",
  "name": "python",
  "npconvert_exporter": "python",
  "pygments_lexer": "ipython3",
  "version": 3,
  "kernelspec": {
   "name": "python37464bitdff66e93bdf74ae3be45627c04b80669",
   "display_name": "Python 3.7.4 64-bit"
  }
 },
 "cells": [
  {
   "cell_type": "code",
   "execution_count": 19,
   "metadata": {},
   "outputs": [],
   "source": [
    "import sqlite3\n",
    "import pandas as pd"
   ]
  },
  {
   "cell_type": "code",
   "execution_count": 20,
   "metadata": {},
   "outputs": [],
   "source": [
    "con = sqlite3.connect('userdb.sqlite3')\n",
    "cur = con.cursor()"
   ]
  },
  {
   "cell_type": "code",
   "execution_count": 21,
   "metadata": {},
   "outputs": [
    {
     "data": {
      "text/plain": "<sqlite3.Cursor at 0x1a254250ea0>"
     },
     "execution_count": 21,
     "metadata": {},
     "output_type": "execute_result"
    }
   ],
   "source": [
    "cur.execute('''\n",
    "CREATE TABLE discordGuardiansToken (discordSnowflake INT PRIMARY KEY, destinyID INT,signupDate DATE,serverID INT, token TEXT, refresh_token) \n",
    "''')"
   ]
  },
  {
   "cell_type": "code",
   "execution_count": 26,
   "metadata": {},
   "outputs": [
    {
     "data": {
      "text/plain": "<sqlite3.Cursor at 0x1a254250ea0>"
     },
     "execution_count": 26,
     "metadata": {},
     "output_type": "execute_result"
    }
   ],
   "source": [
    "cur.execute('''\n",
    "DROP TABLE discordGuardiansT\n",
    "''')"
   ]
  },
  {
   "cell_type": "code",
   "execution_count": 22,
   "metadata": {},
   "outputs": [
    {
     "data": {
      "text/plain": "<sqlite3.Cursor at 0x1a254250ea0>"
     },
     "execution_count": 22,
     "metadata": {},
     "output_type": "execute_result"
    }
   ],
   "source": [
    "cur.execute('''\n",
    "INSERT INTO discordGuardiansToken SELECT *, NULL from discordGuardiansT\n",
    "''')"
   ]
  },
  {
   "cell_type": "code",
   "execution_count": 27,
   "metadata": {},
   "outputs": [],
   "source": [
    "con.commit()"
   ]
  },
  {
   "cell_type": "code",
   "execution_count": 24,
   "metadata": {},
   "outputs": [
    {
     "data": {
      "text/plain": "<sqlite3.Cursor at 0x1a254250ea0>"
     },
     "execution_count": 24,
     "metadata": {},
     "output_type": "execute_result"
    }
   ],
   "source": [
    "cur.execute('''\n",
    "SELECT * FROM discordGuardiansToken\n",
    "''')"
   ]
  },
  {
   "cell_type": "code",
   "execution_count": 25,
   "metadata": {},
   "outputs": [
    {
     "data": {
      "text/html": "<div>\n<style scoped>\n    .dataframe tbody tr th:only-of-type {\n        vertical-align: middle;\n    }\n\n    .dataframe tbody tr th {\n        vertical-align: top;\n    }\n\n    .dataframe thead th {\n        text-align: right;\n    }\n</style>\n<table border=\"1\" class=\"dataframe\">\n  <thead>\n    <tr style=\"text-align: right;\">\n      <th></th>\n      <th>0</th>\n      <th>1</th>\n      <th>2</th>\n      <th>3</th>\n      <th>4</th>\n      <th>5</th>\n    </tr>\n  </thead>\n  <tbody>\n    <tr>\n      <td>0</td>\n      <td>73386011039633408</td>\n      <td>4611686018468740696</td>\n      <td>1580649119</td>\n      <td>-1</td>\n      <td>None</td>\n      <td>None</td>\n    </tr>\n    <tr>\n      <td>1</td>\n      <td>98117080825475072</td>\n      <td>4611686018467293288</td>\n      <td>1580037823</td>\n      <td>-1</td>\n      <td>None</td>\n      <td>None</td>\n    </tr>\n    <tr>\n      <td>2</td>\n      <td>101082228666171392</td>\n      <td>4611686018467544385</td>\n      <td>1580075130</td>\n      <td>669293365900214293</td>\n      <td>None</td>\n      <td>None</td>\n    </tr>\n    <tr>\n      <td>3</td>\n      <td>108282146002608128</td>\n      <td>4611686018467952451</td>\n      <td>1580037854</td>\n      <td>-1</td>\n      <td>None</td>\n      <td>None</td>\n    </tr>\n    <tr>\n      <td>4</td>\n      <td>109016419059896320</td>\n      <td>4611686018467643119</td>\n      <td>1580037833</td>\n      <td>-1</td>\n      <td>None</td>\n      <td>None</td>\n    </tr>\n    <tr>\n      <td>5</td>\n      <td>109022023979667456</td>\n      <td>4611686018484825875</td>\n      <td>1574286941</td>\n      <td>556418279015448596</td>\n      <td>None</td>\n      <td>None</td>\n    </tr>\n    <tr>\n      <td>6</td>\n      <td>120993937463705600</td>\n      <td>4611686018484349672</td>\n      <td>1580037823</td>\n      <td>-1</td>\n      <td>None</td>\n      <td>None</td>\n    </tr>\n    <tr>\n      <td>7</td>\n      <td>151068170227023872</td>\n      <td>4611686018475494121</td>\n      <td>1580037869</td>\n      <td>-1</td>\n      <td>None</td>\n      <td>None</td>\n    </tr>\n    <tr>\n      <td>8</td>\n      <td>153159435466833921</td>\n      <td>4611686018467605174</td>\n      <td>1580037854</td>\n      <td>-1</td>\n      <td>None</td>\n      <td>None</td>\n    </tr>\n    <tr>\n      <td>9</td>\n      <td>153603850215882752</td>\n      <td>4611686018485458358</td>\n      <td>1580037823</td>\n      <td>-1</td>\n      <td>None</td>\n      <td>None</td>\n    </tr>\n    <tr>\n      <td>10</td>\n      <td>159682228417200129</td>\n      <td>4611686018479039000</td>\n      <td>1580043251</td>\n      <td>669293365900214293</td>\n      <td>None</td>\n      <td>None</td>\n    </tr>\n    <tr>\n      <td>11</td>\n      <td>163177081390366720</td>\n      <td>4611686018487139961</td>\n      <td>1580037838</td>\n      <td>-1</td>\n      <td>None</td>\n      <td>None</td>\n    </tr>\n    <tr>\n      <td>12</td>\n      <td>164010309059739648</td>\n      <td>4611686018467232843</td>\n      <td>1574287032</td>\n      <td>556418279015448596</td>\n      <td>None</td>\n      <td>None</td>\n    </tr>\n    <tr>\n      <td>13</td>\n      <td>171371726444167168</td>\n      <td>4611686018487157758</td>\n      <td>1580037870</td>\n      <td>-1</td>\n      <td>None</td>\n      <td>None</td>\n    </tr>\n    <tr>\n      <td>14</td>\n      <td>171650677607497730</td>\n      <td>4611686018468695677</td>\n      <td>1574268803</td>\n      <td>556418279015448596</td>\n      <td>None</td>\n      <td>None</td>\n    </tr>\n    <tr>\n      <td>15</td>\n      <td>198036482286551041</td>\n      <td>4611686018432289116</td>\n      <td>1580037849</td>\n      <td>-1</td>\n      <td>None</td>\n      <td>None</td>\n    </tr>\n    <tr>\n      <td>16</td>\n      <td>199200596950122497</td>\n      <td>4611686018468756329</td>\n      <td>1580037859</td>\n      <td>-1</td>\n      <td>None</td>\n      <td>None</td>\n    </tr>\n    <tr>\n      <td>17</td>\n      <td>206878830017773568</td>\n      <td>4611686018468433098</td>\n      <td>1580324216</td>\n      <td>669293365900214293</td>\n      <td>None</td>\n      <td>None</td>\n    </tr>\n    <tr>\n      <td>18</td>\n      <td>211838266834550785</td>\n      <td>4611686018467630031</td>\n      <td>1580037865</td>\n      <td>-1</td>\n      <td>None</td>\n      <td>None</td>\n    </tr>\n    <tr>\n      <td>19</td>\n      <td>216642123364171778</td>\n      <td>4611686018470653084</td>\n      <td>1580037838</td>\n      <td>-1</td>\n      <td>None</td>\n      <td>None</td>\n    </tr>\n    <tr>\n      <td>20</td>\n      <td>218475400534294529</td>\n      <td>4611686018483427800</td>\n      <td>1580037823</td>\n      <td>-1</td>\n      <td>None</td>\n      <td>None</td>\n    </tr>\n    <tr>\n      <td>21</td>\n      <td>220188263665762304</td>\n      <td>4611686018484838535</td>\n      <td>1580037818</td>\n      <td>-1</td>\n      <td>None</td>\n      <td>None</td>\n    </tr>\n    <tr>\n      <td>22</td>\n      <td>221306924019220480</td>\n      <td>4611686018467806902</td>\n      <td>1580037844</td>\n      <td>-1</td>\n      <td>None</td>\n      <td>None</td>\n    </tr>\n    <tr>\n      <td>23</td>\n      <td>232813482049929218</td>\n      <td>4611686018470637201</td>\n      <td>1580768474</td>\n      <td>669293365900214293</td>\n      <td>None</td>\n      <td>None</td>\n    </tr>\n    <tr>\n      <td>24</td>\n      <td>235420246498869249</td>\n      <td>4611686018470746798</td>\n      <td>1574275360</td>\n      <td>556418279015448596</td>\n      <td>None</td>\n      <td>None</td>\n    </tr>\n    <tr>\n      <td>25</td>\n      <td>238388130581839872</td>\n      <td>4611686018467765462</td>\n      <td>1580037828</td>\n      <td>-1</td>\n      <td>None</td>\n      <td>None</td>\n    </tr>\n    <tr>\n      <td>26</td>\n      <td>249468911152660491</td>\n      <td>4611686018467326665</td>\n      <td>1580037849</td>\n      <td>-1</td>\n      <td>None</td>\n      <td>None</td>\n    </tr>\n    <tr>\n      <td>27</td>\n      <td>263808067425140736</td>\n      <td>4611686018484482837</td>\n      <td>1580661492</td>\n      <td>669293365900214293</td>\n      <td>None</td>\n      <td>None</td>\n    </tr>\n    <tr>\n      <td>28</td>\n      <td>264456189905993728</td>\n      <td>4611686018467395436</td>\n      <td>1580037834</td>\n      <td>-1</td>\n      <td>None</td>\n      <td>None</td>\n    </tr>\n    <tr>\n      <td>29</td>\n      <td>266594742677143553</td>\n      <td>4611686018470292252</td>\n      <td>1580037859</td>\n      <td>-1</td>\n      <td>None</td>\n      <td>None</td>\n    </tr>\n    <tr>\n      <td>30</td>\n      <td>268189749712257034</td>\n      <td>4611686018471616754</td>\n      <td>1580037838</td>\n      <td>-1</td>\n      <td>None</td>\n      <td>None</td>\n    </tr>\n    <tr>\n      <td>31</td>\n      <td>284815453912825859</td>\n      <td>4611686018468254404</td>\n      <td>1580037849</td>\n      <td>-1</td>\n      <td>None</td>\n      <td>None</td>\n    </tr>\n    <tr>\n      <td>32</td>\n      <td>289734988872548354</td>\n      <td>4611686018452931968</td>\n      <td>1580490290</td>\n      <td>669293365900214293</td>\n      <td>None</td>\n      <td>None</td>\n    </tr>\n    <tr>\n      <td>33</td>\n      <td>304986910265311233</td>\n      <td>4611686018431464568</td>\n      <td>1580037817</td>\n      <td>-1</td>\n      <td>None</td>\n      <td>None</td>\n    </tr>\n    <tr>\n      <td>34</td>\n      <td>306680637266460673</td>\n      <td>4611686018475630950</td>\n      <td>1580037864</td>\n      <td>-1</td>\n      <td>None</td>\n      <td>None</td>\n    </tr>\n    <tr>\n      <td>35</td>\n      <td>313063224654299137</td>\n      <td>4611686018467801551</td>\n      <td>1580649371</td>\n      <td>669293365900214293</td>\n      <td>None</td>\n      <td>None</td>\n    </tr>\n    <tr>\n      <td>36</td>\n      <td>325180080546512907</td>\n      <td>4611686018486882846</td>\n      <td>1580037855</td>\n      <td>-1</td>\n      <td>None</td>\n      <td>None</td>\n    </tr>\n    <tr>\n      <td>37</td>\n      <td>326712379389771776</td>\n      <td>4611686018490193497</td>\n      <td>1580157496</td>\n      <td>669293365900214293</td>\n      <td>None</td>\n      <td>None</td>\n    </tr>\n    <tr>\n      <td>38</td>\n      <td>334798310261129216</td>\n      <td>4611686018475697968</td>\n      <td>1580037818</td>\n      <td>-1</td>\n      <td>None</td>\n      <td>None</td>\n    </tr>\n    <tr>\n      <td>39</td>\n      <td>362256630202630144</td>\n      <td>4611686018485525054</td>\n      <td>1580037859</td>\n      <td>-1</td>\n      <td>None</td>\n      <td>None</td>\n    </tr>\n    <tr>\n      <td>40</td>\n      <td>367385031569702912</td>\n      <td>4611686018451177627</td>\n      <td>1580043204</td>\n      <td>669293365900214293</td>\n      <td>None</td>\n      <td>None</td>\n    </tr>\n    <tr>\n      <td>41</td>\n      <td>377802312879570944</td>\n      <td>4611686018483816607</td>\n      <td>1580037844</td>\n      <td>-1</td>\n      <td>None</td>\n      <td>None</td>\n    </tr>\n    <tr>\n      <td>42</td>\n      <td>378888162245869580</td>\n      <td>4611686018484064353</td>\n      <td>1580418116</td>\n      <td>-1</td>\n      <td>None</td>\n      <td>None</td>\n    </tr>\n    <tr>\n      <td>43</td>\n      <td>389150599452557333</td>\n      <td>4611686018471948664</td>\n      <td>1580037818</td>\n      <td>-1</td>\n      <td>None</td>\n      <td>None</td>\n    </tr>\n    <tr>\n      <td>44</td>\n      <td>392724763874689024</td>\n      <td>4611686018468216987</td>\n      <td>1580042805</td>\n      <td>669293365900214293</td>\n      <td>None</td>\n      <td>None</td>\n    </tr>\n    <tr>\n      <td>45</td>\n      <td>394123450307969025</td>\n      <td>4611686018489649755</td>\n      <td>1580041877</td>\n      <td>-1</td>\n      <td>None</td>\n      <td>None</td>\n    </tr>\n    <tr>\n      <td>46</td>\n      <td>411999567769239552</td>\n      <td>4611686018475061074</td>\n      <td>1580085956</td>\n      <td>-1</td>\n      <td>None</td>\n      <td>None</td>\n    </tr>\n    <tr>\n      <td>47</td>\n      <td>426007482339557376</td>\n      <td>4611686018484060686</td>\n      <td>1580037849</td>\n      <td>-1</td>\n      <td>None</td>\n      <td>None</td>\n    </tr>\n    <tr>\n      <td>48</td>\n      <td>429343455232262144</td>\n      <td>4611686018484271588</td>\n      <td>1580037828</td>\n      <td>-1</td>\n      <td>None</td>\n      <td>None</td>\n    </tr>\n    <tr>\n      <td>49</td>\n      <td>448152864003588106</td>\n      <td>4611686018489405994</td>\n      <td>1580037833</td>\n      <td>-1</td>\n      <td>None</td>\n      <td>None</td>\n    </tr>\n    <tr>\n      <td>50</td>\n      <td>622817184376291328</td>\n      <td>4611686018489569421</td>\n      <td>1580037813</td>\n      <td>-1</td>\n      <td>None</td>\n      <td>None</td>\n    </tr>\n    <tr>\n      <td>51</td>\n      <td>670337083394752539</td>\n      <td>4611686018489495520</td>\n      <td>1580840255</td>\n      <td>-1</td>\n      <td>None</td>\n      <td>None</td>\n    </tr>\n    <tr>\n      <td>52</td>\n      <td>670609428856307723</td>\n      <td>4611686018474620788</td>\n      <td>1580037839</td>\n      <td>-1</td>\n      <td>None</td>\n      <td>None</td>\n    </tr>\n    <tr>\n      <td>53</td>\n      <td>4611686018468433098</td>\n      <td>206878830017773568</td>\n      <td>1580322921</td>\n      <td>669293365900214293</td>\n      <td>None</td>\n      <td>None</td>\n    </tr>\n  </tbody>\n</table>\n</div>",
      "text/plain": "                      0                    1           2                   3  \\\n0     73386011039633408  4611686018468740696  1580649119                  -1   \n1     98117080825475072  4611686018467293288  1580037823                  -1   \n2    101082228666171392  4611686018467544385  1580075130  669293365900214293   \n3    108282146002608128  4611686018467952451  1580037854                  -1   \n4    109016419059896320  4611686018467643119  1580037833                  -1   \n5    109022023979667456  4611686018484825875  1574286941  556418279015448596   \n6    120993937463705600  4611686018484349672  1580037823                  -1   \n7    151068170227023872  4611686018475494121  1580037869                  -1   \n8    153159435466833921  4611686018467605174  1580037854                  -1   \n9    153603850215882752  4611686018485458358  1580037823                  -1   \n10   159682228417200129  4611686018479039000  1580043251  669293365900214293   \n11   163177081390366720  4611686018487139961  1580037838                  -1   \n12   164010309059739648  4611686018467232843  1574287032  556418279015448596   \n13   171371726444167168  4611686018487157758  1580037870                  -1   \n14   171650677607497730  4611686018468695677  1574268803  556418279015448596   \n15   198036482286551041  4611686018432289116  1580037849                  -1   \n16   199200596950122497  4611686018468756329  1580037859                  -1   \n17   206878830017773568  4611686018468433098  1580324216  669293365900214293   \n18   211838266834550785  4611686018467630031  1580037865                  -1   \n19   216642123364171778  4611686018470653084  1580037838                  -1   \n20   218475400534294529  4611686018483427800  1580037823                  -1   \n21   220188263665762304  4611686018484838535  1580037818                  -1   \n22   221306924019220480  4611686018467806902  1580037844                  -1   \n23   232813482049929218  4611686018470637201  1580768474  669293365900214293   \n24   235420246498869249  4611686018470746798  1574275360  556418279015448596   \n25   238388130581839872  4611686018467765462  1580037828                  -1   \n26   249468911152660491  4611686018467326665  1580037849                  -1   \n27   263808067425140736  4611686018484482837  1580661492  669293365900214293   \n28   264456189905993728  4611686018467395436  1580037834                  -1   \n29   266594742677143553  4611686018470292252  1580037859                  -1   \n30   268189749712257034  4611686018471616754  1580037838                  -1   \n31   284815453912825859  4611686018468254404  1580037849                  -1   \n32   289734988872548354  4611686018452931968  1580490290  669293365900214293   \n33   304986910265311233  4611686018431464568  1580037817                  -1   \n34   306680637266460673  4611686018475630950  1580037864                  -1   \n35   313063224654299137  4611686018467801551  1580649371  669293365900214293   \n36   325180080546512907  4611686018486882846  1580037855                  -1   \n37   326712379389771776  4611686018490193497  1580157496  669293365900214293   \n38   334798310261129216  4611686018475697968  1580037818                  -1   \n39   362256630202630144  4611686018485525054  1580037859                  -1   \n40   367385031569702912  4611686018451177627  1580043204  669293365900214293   \n41   377802312879570944  4611686018483816607  1580037844                  -1   \n42   378888162245869580  4611686018484064353  1580418116                  -1   \n43   389150599452557333  4611686018471948664  1580037818                  -1   \n44   392724763874689024  4611686018468216987  1580042805  669293365900214293   \n45   394123450307969025  4611686018489649755  1580041877                  -1   \n46   411999567769239552  4611686018475061074  1580085956                  -1   \n47   426007482339557376  4611686018484060686  1580037849                  -1   \n48   429343455232262144  4611686018484271588  1580037828                  -1   \n49   448152864003588106  4611686018489405994  1580037833                  -1   \n50   622817184376291328  4611686018489569421  1580037813                  -1   \n51   670337083394752539  4611686018489495520  1580840255                  -1   \n52   670609428856307723  4611686018474620788  1580037839                  -1   \n53  4611686018468433098   206878830017773568  1580322921  669293365900214293   \n\n       4     5  \n0   None  None  \n1   None  None  \n2   None  None  \n3   None  None  \n4   None  None  \n5   None  None  \n6   None  None  \n7   None  None  \n8   None  None  \n9   None  None  \n10  None  None  \n11  None  None  \n12  None  None  \n13  None  None  \n14  None  None  \n15  None  None  \n16  None  None  \n17  None  None  \n18  None  None  \n19  None  None  \n20  None  None  \n21  None  None  \n22  None  None  \n23  None  None  \n24  None  None  \n25  None  None  \n26  None  None  \n27  None  None  \n28  None  None  \n29  None  None  \n30  None  None  \n31  None  None  \n32  None  None  \n33  None  None  \n34  None  None  \n35  None  None  \n36  None  None  \n37  None  None  \n38  None  None  \n39  None  None  \n40  None  None  \n41  None  None  \n42  None  None  \n43  None  None  \n44  None  None  \n45  None  None  \n46  None  None  \n47  None  None  \n48  None  None  \n49  None  None  \n50  None  None  \n51  None  None  \n52  None  None  \n53  None  None  "
     },
     "execution_count": 25,
     "metadata": {},
     "output_type": "execute_result"
    }
   ],
   "source": [
    "df = pd.DataFrame(cur.fetchall())\n",
    "df"
   ]
  },
  {
   "cell_type": "code",
   "execution_count": null,
   "metadata": {},
   "outputs": [],
   "source": []
  },
  {
   "cell_type": "code",
   "execution_count": 28,
   "metadata": {},
   "outputs": [],
   "source": [
    "con.close()"
   ]
  }
 ]
}