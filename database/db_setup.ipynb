{
 "nbformat": 4,
 "nbformat_minor": 2,
 "metadata": {
  "language_info": {
   "name": "python",
   "codemirror_mode": {
    "name": "ipython",
    "version": 3
   },
   "version": "3.8.3-final"
  },
  "orig_nbformat": 2,
  "file_extension": ".py",
  "mimetype": "text/x-python",
  "name": "python",
  "npconvert_exporter": "python",
  "pygments_lexer": "ipython3",
  "version": 3,
  "kernelspec": {
   "name": "python_defaultSpec_1599663530293",
   "display_name": "Python 3.8.3 64-bit"
  }
 },
 "cells": [
  {
   "cell_type": "code",
   "execution_count": 1,
   "metadata": {},
   "outputs": [],
   "source": [
    "import sqlite3\n",
    "con = sqlite3.connect('userdb.sqlite3')"
   ]
  },
  {
   "cell_type": "code",
   "execution_count": 2,
   "metadata": {},
   "outputs": [],
   "source": [
    "cur = con.cursor()"
   ]
  },
  {
   "cell_type": "code",
   "execution_count": 4,
   "metadata": {},
   "outputs": [
    {
     "data": {
      "text/plain": "<sqlite3.Cursor at 0x1d22bb88e30>"
     },
     "execution_count": 4,
     "metadata": {},
     "output_type": "execute_result"
    }
   ],
   "source": [
    "cur.execute('''\n",
    "    DROP TABLE characters\n",
    "''')"
   ]
  },
  {
   "cell_type": "code",
   "execution_count": 5,
   "metadata": {},
   "outputs": [
    {
     "data": {
      "text/plain": "<sqlite3.Cursor at 0x1d22bb88e30>"
     },
     "execution_count": 5,
     "metadata": {},
     "output_type": "execute_result"
    }
   ],
   "source": [
    "cur.execute('''\n",
    "    CREATE TABLE characters(\n",
    "        destinyID INTEGER UNIQUE,\n",
    "        characterID INTEGER UNIQUE,\n",
    "        systemID INTEGER DEFAULT 3,\n",
    "        UNIQUE(destinyID, characterID)\n",
    "    )\n",
    "''')"
   ]
  },
  {
   "cell_type": "code",
   "execution_count": 8,
   "metadata": {},
   "outputs": [
    {
     "output_type": "execute_result",
     "data": {
      "text/plain": "<sqlite3.Cursor at 0x7fe124575650>"
     },
     "metadata": {},
     "execution_count": 8
    }
   ],
   "source": [
    "cur.execute('''\n",
    "    DROP TABLE bountyGoblins\n",
    "''')"
   ]
  },
  {
   "cell_type": "code",
   "execution_count": 9,
   "metadata": {},
   "outputs": [
    {
     "output_type": "execute_result",
     "data": {
      "text/plain": "<sqlite3.Cursor at 0x7fe124575650>"
     },
     "metadata": {},
     "execution_count": 9
    }
   ],
   "source": [
    "cur.execute('''\n",
    "    CREATE TABLE bountyGoblins(\n",
    "        discordSnowflake INTEGER PRIMARY KEY,\n",
    "        exp_pve INTEGER,\n",
    "        exp_pvp INTEGER,\n",
    "        exp_raids INTEGER,\n",
    "        points_bounties_pve INTEGER,\n",
    "        points_bounties_pvp INTEGER,\n",
    "        points_bounties_raids INTEGER,\n",
    "        points_competition_pve INTEGER,\n",
    "        points_competition_pvp INTEGER,\n",
    "        points_competition_raids INTEGER,\n",
    "        active INTEGER,\n",
    "        notifications INTEGER DEFAULT 0\n",
    "    )\n",
    "''')"
   ]
  },
  {
   "cell_type": "code",
   "execution_count": 10,
   "metadata": {},
   "outputs": [
    {
     "output_type": "execute_result",
     "data": {
      "text/plain": "[]"
     },
     "metadata": {},
     "execution_count": 10
    }
   ],
   "source": [
    "con.commit()\n",
    "cur.execute('''\n",
    "    select * from bountyGoblins\n",
    "''')\n",
    "cur.fetchall()"
   ]
  },
  {
   "cell_type": "code",
   "execution_count": 11,
   "metadata": {},
   "outputs": [
    {
     "output_type": "execute_result",
     "data": {
      "text/plain": "(('discordSnowflake', None, None, None, None, None, None),\n ('exp_pve', None, None, None, None, None, None),\n ('exp_pvp', None, None, None, None, None, None),\n ('exp_raids', None, None, None, None, None, None),\n ('points_bounties_pve', None, None, None, None, None, None),\n ('points_bounties_pvp', None, None, None, None, None, None),\n ('points_bounties_raids', None, None, None, None, None, None),\n ('points_competition_pve', None, None, None, None, None, None),\n ('points_competition_pvp', None, None, None, None, None, None),\n ('points_competition_raids', None, None, None, None, None, None),\n ('active', None, None, None, None, None, None),\n ('notifications', None, None, None, None, None, None))"
     },
     "metadata": {},
     "execution_count": 11
    }
   ],
   "source": [
    "cur.description"
   ]
  },
  {
   "cell_type": "code",
   "execution_count": 4,
   "metadata": {},
   "outputs": [
    {
     "data": {
      "text/plain": "<sqlite3.Cursor at 0x14b755e2030>"
     },
     "execution_count": 4,
     "metadata": {},
     "output_type": "execute_result"
    }
   ],
   "source": [
    "cur.execute('''\n",
    "    DROP TABLE activities\n",
    "''')"
   ]
  },
  {
   "cell_type": "code",
   "execution_count": 5,
   "metadata": {},
   "outputs": [
    {
     "data": {
      "text/plain": "<sqlite3.Cursor at 0x14b755e2030>"
     },
     "execution_count": 5,
     "metadata": {},
     "output_type": "execute_result"
    }
   ],
   "source": [
    "cur.execute('''\n",
    "    CREATE TABLE activities(\n",
    "        instanceID INTEGER PRIMARY KEY,\n",
    "        activityHash INTEGER,\n",
    "        timePlayedSeconds INTEGER,\n",
    "        period TIMESTAMP,\n",
    "        startingPhaseIndex INTEGER,\n",
    "        completed INTEGER,\n",
    "        deaths INTEGER,\n",
    "        playercount INTEGER,\n",
    "        mode INTEGER\n",
    "    );\n",
    "''')"
   ]
  },
  {
   "cell_type": "code",
   "execution_count": 9,
   "metadata": {},
   "outputs": [
    {
     "data": {
      "text/plain": "<sqlite3.Cursor at 0x1d22bb88e30>"
     },
     "execution_count": 9,
     "metadata": {},
     "output_type": "execute_result"
    }
   ],
   "source": [
    "cur.execute('''\n",
    "    DROP TABLE instancePlayerPerformance''')"
   ]
  },
  {
   "cell_type": "code",
   "execution_count": 10,
   "metadata": {},
   "outputs": [
    {
     "data": {
      "text/plain": "<sqlite3.Cursor at 0x1d22bb88e30>"
     },
     "execution_count": 10,
     "metadata": {},
     "output_type": "execute_result"
    }
   ],
   "source": [
    "cur.execute('''\n",
    "    CREATE TABLE instancePlayerPerformance(\n",
    "        instanceID INTEGER,\n",
    "        playerID INTEGER,\n",
    "        characterID INTEGER,\n",
    "        lightlevel INTEGER,\n",
    "        displayname TEXT,\n",
    "        deaths INTEGER,\n",
    "        opponentsDefeated INTEGER,\n",
    "        completed INTEGER,\n",
    "        UNIQUE(instanceID, characterID)\n",
    "    )\n",
    "''')"
   ]
  },
  {
   "cell_type": "code",
   "execution_count": null,
   "metadata": {},
   "outputs": [],
   "source": [
    "#   discordGuardiansToken     (discordSnowflake, destinyID, signupDate, serverID, token, refresh_token) \n",
    "#   table messagedb                 (msg, userid, channelid, msgid, msgdate)\n",
    "#   table markovpairs               (word1, word2)"
   ]
  },
  {
   "cell_type": "code",
   "execution_count": 4,
   "metadata": {},
   "outputs": [],
   "source": [
    "con.commit()\n",
    "con.close()"
   ]
  },
  {
   "cell_type": "code",
   "execution_count": null,
   "metadata": {},
   "outputs": [],
   "source": []
  }
 ]
}