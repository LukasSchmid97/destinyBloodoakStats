{
 "nbformat": 4,
 "nbformat_minor": 2,
 "metadata": {
  "language_info": {
   "name": "python",
   "codemirror_mode": {
    "name": "ipython",
    "version": 3
   },
   "version": "3.7.4-final"
  },
  "orig_nbformat": 2,
  "file_extension": ".py",
  "mimetype": "text/x-python",
  "name": "python",
  "npconvert_exporter": "python",
  "pygments_lexer": "ipython3",
  "version": 3,
  "kernelspec": {
   "name": "python37464bitdff66e93bdf74ae3be45627c04b80669",
   "display_name": "Python 3.7.4 64-bit"
  }
 },
 "cells": [
  {
   "cell_type": "code",
   "execution_count": 2,
   "metadata": {},
   "outputs": [],
   "source": [
    "from functions import getJSONfromURL, getPlayerStats, playerHasCollectible, getCharacterList,getPlayersPastRaids\n",
    "from database import db_connect\n",
    "from functions import getManifestJson\n",
    "from concurrent.futures import ThreadPoolExecutor, as_completed\n",
    "import matplotlib.pyplot as plt\n",
    "import pandas as pd\n",
    "destinyID = 4611686018468695677"
   ]
  },
  {
   "cell_type": "code",
   "execution_count": 3,
   "metadata": {},
   "outputs": [],
   "source": [
    "conn = db_connect()\n",
    "c = conn.cursor()"
   ]
  },
  {
   "cell_type": "code",
   "execution_count": 22,
   "metadata": {},
   "outputs": [
    {
     "data": {
      "text/plain": "<sqlite3.Cursor at 0x23a7c230ab0>"
     },
     "execution_count": 22,
     "metadata": {},
     "output_type": "execute_result"
    }
   ],
   "source": [
    "c.execute('''\n",
    "CREATE TABLE markovpairs(\n",
    "    word1 text,\n",
    "    word2 text\n",
    ")\n",
    "''')\n",
    "\n",
    "general = 670400011519000616\n",
    "media = 670400027155365929\n",
    "spoilerchat = 670402166103474190\n",
    "offtopic = 670362162660900895"
   ]
  },
  {
   "cell_type": "code",
   "execution_count": 20,
   "metadata": {},
   "outputs": [
    {
     "data": {
      "text/plain": "<sqlite3.Cursor at 0x23a7c230ab0>"
     },
     "execution_count": 20,
     "metadata": {},
     "output_type": "execute_result"
    }
   ],
   "source": [
    "c.execute('''\n",
    "CREATE TABLE messagedb(\n",
    "    msg text,\n",
    "    userid int,\n",
    "    channelid int,\n",
    "    msgid int,\n",
    "    msgdate date\n",
    ")\n",
    "''')"
   ]
  },
  {
   "cell_type": "code",
   "execution_count": 29,
   "metadata": {},
   "outputs": [
    {
     "data": {
      "text/html": "<div>\n<style scoped>\n    .dataframe tbody tr th:only-of-type {\n        vertical-align: middle;\n    }\n\n    .dataframe tbody tr th {\n        vertical-align: top;\n    }\n\n    .dataframe thead th {\n        text-align: right;\n    }\n</style>\n<table border=\"1\" class=\"dataframe\">\n  <thead>\n    <tr style=\"text-align: right;\">\n      <th></th>\n      <th>msg</th>\n      <th>userid</th>\n      <th>channelid</th>\n      <th>msgid</th>\n      <th>msgdate</th>\n    </tr>\n  </thead>\n  <tbody>\n    <tr>\n      <td>0</td>\n      <td>never tried them, although glue definitely does</td>\n      <td>264456189905993728</td>\n      <td>670400011519000616</td>\n      <td>672516124377612361</td>\n      <td>2020-01-30</td>\n    </tr>\n    <tr>\n      <td>1</td>\n      <td>so uhh if you shift tab in game and look at th...</td>\n      <td>220188263665762304</td>\n      <td>670400011519000616</td>\n      <td>672515643387412497</td>\n      <td>2020-01-30</td>\n    </tr>\n    <tr>\n      <td>2</td>\n      <td>just do it like in the *gate crash* sundial en...</td>\n      <td>153603850215882752</td>\n      <td>670400011519000616</td>\n      <td>672508494259421235</td>\n      <td>2020-01-30</td>\n    </tr>\n    <tr>\n      <td>3</td>\n      <td>ah, alright</td>\n      <td>264456189905993728</td>\n      <td>670400011519000616</td>\n      <td>672508365834027019</td>\n      <td>2020-01-30</td>\n    </tr>\n    <tr>\n      <td>4</td>\n      <td>you just switch instantly</td>\n      <td>153159435466833921</td>\n      <td>670400011519000616</td>\n      <td>672508298926227465</td>\n      <td>2020-01-30</td>\n    </tr>\n    <tr>\n      <td>...</td>\n      <td>...</td>\n      <td>...</td>\n      <td>...</td>\n      <td>...</td>\n      <td>...</td>\n    </tr>\n    <tr>\n      <td>7020</td>\n      <td>Doing that friday &lt;:peepoPog:545799983455272964&gt;</td>\n      <td>367385031569702912</td>\n      <td>670400027155365929</td>\n      <td>672556613810520064</td>\n      <td>2020-01-30</td>\n    </tr>\n    <tr>\n      <td>7021</td>\n      <td>we are rivensbanes</td>\n      <td>377802312879570944</td>\n      <td>670400027155365929</td>\n      <td>672556626959400970</td>\n      <td>2020-01-30</td>\n    </tr>\n    <tr>\n      <td>7022</td>\n      <td>or are we &lt;:thonk:670369127701020672&gt;</td>\n      <td>377802312879570944</td>\n      <td>670400027155365929</td>\n      <td>672556655610691584</td>\n      <td>2020-01-30</td>\n    </tr>\n    <tr>\n      <td>7023</td>\n      <td>is what I usually use</td>\n      <td>171650677607497730</td>\n      <td>670400027155365929</td>\n      <td>672556775312064543</td>\n      <td>2020-01-30</td>\n    </tr>\n    <tr>\n      <td>7024</td>\n      <td>We will be doing legit riven btw so we don't g...</td>\n      <td>367385031569702912</td>\n      <td>670400027155365929</td>\n      <td>672556776197062671</td>\n      <td>2020-01-30</td>\n    </tr>\n  </tbody>\n</table>\n<p>7025 rows × 5 columns</p>\n</div>",
      "text/plain": "                                                    msg              userid  \\\n0       never tried them, although glue definitely does  264456189905993728   \n1     so uhh if you shift tab in game and look at th...  220188263665762304   \n2     just do it like in the *gate crash* sundial en...  153603850215882752   \n3                                           ah, alright  264456189905993728   \n4                             you just switch instantly  153159435466833921   \n...                                                 ...                 ...   \n7020   Doing that friday <:peepoPog:545799983455272964>  367385031569702912   \n7021                                 we are rivensbanes  377802312879570944   \n7022              or are we <:thonk:670369127701020672>  377802312879570944   \n7023                              is what I usually use  171650677607497730   \n7024  We will be doing legit riven btw so we don't g...  367385031569702912   \n\n               channelid               msgid     msgdate  \n0     670400011519000616  672516124377612361  2020-01-30  \n1     670400011519000616  672515643387412497  2020-01-30  \n2     670400011519000616  672508494259421235  2020-01-30  \n3     670400011519000616  672508365834027019  2020-01-30  \n4     670400011519000616  672508298926227465  2020-01-30  \n...                  ...                 ...         ...  \n7020  670400027155365929  672556613810520064  2020-01-30  \n7021  670400027155365929  672556626959400970  2020-01-30  \n7022  670400027155365929  672556655610691584  2020-01-30  \n7023  670400027155365929  672556775312064543  2020-01-30  \n7024  670400027155365929  672556776197062671  2020-01-30  \n\n[7025 rows x 5 columns]"
     },
     "execution_count": 29,
     "metadata": {},
     "output_type": "execute_result"
    }
   ],
   "source": [
    "c.execute('''\n",
    "SELECT * FROM messagedb\n",
    "''')\n",
    "df = pd.DataFrame(c.fetchall())\n",
    "df.columns = [c[0] for c in c.description]\n",
    "df"
   ]
  },
  {
   "cell_type": "code",
   "execution_count": 7,
   "metadata": {},
   "outputs": [
    {
     "data": {
      "text/plain": "[(669293365900214298, 1),\n (669655519190843412, 1),\n (669657816557944832, 6),\n (670362162660900895, 707),\n (670400011519000616, 3710),\n (670400027155365929, 1649),\n (670400057631309869, 2),\n (670401806345699369, 69),\n (670401854496309268, 204),\n (670402129340661772, 1),\n (670402166103474190, 15),\n (670637036641845258, 2),\n (670984994046345236, 1),\n (671264040974024705, 7),\n (671358241971634176, 2),\n (672541982157045791, 427)]"
     },
     "execution_count": 7,
     "metadata": {},
     "output_type": "execute_result"
    }
   ],
   "source": [
    "c.execute(r'''\n",
    "\n",
    "SELECT channelid FROM messagedb\n",
    "GROUP BY channelid\n",
    "HAVING count(msg) < 200\n",
    "''')\n",
    "text = list(c.fetchall())\n",
    "text"
   ]
  },
  {
   "cell_type": "code",
   "execution_count": 16,
   "metadata": {},
   "outputs": [],
   "source": [
    "c.execute('''\n",
    "SELECT msg FROM messagedb\n",
    "''')\n",
    "text = list(c.fetchall())\n",
    "for dbquery in text:\n",
    "    sentence = dbquery[0]\n",
    "    words = sentence.split(' ')\n",
    "    sentenceedges = zip(['__start__'] + words, words + ['__end__'])\n",
    "    for (a,b) in sentenceedges:\n",
    "            conn.execute(f'''\n",
    "               INSERT INTO markovpairs \n",
    "               (word1, word2) \n",
    "               VALUES \n",
    "               (?,?)\n",
    "            ''',(a,b))\n",
    "conn.commit()"
   ]
  },
  {
   "cell_type": "code",
   "execution_count": 6,
   "metadata": {},
   "outputs": [
    {
     "data": {
      "text/html": "<div>\n<style scoped>\n    .dataframe tbody tr th:only-of-type {\n        vertical-align: middle;\n    }\n\n    .dataframe tbody tr th {\n        vertical-align: top;\n    }\n\n    .dataframe thead th {\n        text-align: right;\n    }\n</style>\n<table border=\"1\" class=\"dataframe\">\n  <thead>\n    <tr style=\"text-align: right;\">\n      <th></th>\n    </tr>\n  </thead>\n  <tbody>\n  </tbody>\n</table>\n</div>",
      "text/plain": "Empty DataFrame\nColumns: []\nIndex: []"
     },
     "execution_count": 6,
     "metadata": {},
     "output_type": "execute_result"
    }
   ],
   "source": [
    "c.execute(f'''\n",
    "               DELETE FROM markovpairs\n",
    "            ''')\n",
    "mp = pd.DataFrame(c.fetchall())\n",
    "mp"
   ]
  },
  {
   "cell_type": "code",
   "execution_count": 5,
   "metadata": {},
   "outputs": [],
   "source": [
    "c.execute(r'''\n",
    "DELETE FROM messagedb\n",
    "WHERE channelid = \n",
    "''')\n",
    "conn.commit()"
   ]
  },
  {
   "cell_type": "code",
   "execution_count": 2,
   "metadata": {},
   "outputs": [],
   "source": [
    "conn = db_connect()\n",
    "c = conn.cursor()\n",
    "c.execute('''DELETE FROM markovpairs''')#TRUNCATE\n",
    "conn.commit()\n",
    "c.execute('''\n",
    "SELECT msg FROM messagedb\n",
    "''')\n",
    "text = list(c.fetchall())\n",
    "for dbquery in text:\n",
    "    sentence = dbquery[0]\n",
    "    words = sentence.split(' ')\n",
    "    sentenceedges = zip(['__start__'] + words, words + ['__end__'])\n",
    "    for (a,b) in sentenceedges:\n",
    "            conn.execute(f'''\n",
    "            INSERT INTO markovpairs \n",
    "            (word1, word2) \n",
    "            VALUES \n",
    "            (?,?)\n",
    "            ''',(a,b))\n",
    "conn.commit()"
   ]
  },
  {
   "cell_type": "code",
   "execution_count": null,
   "metadata": {},
   "outputs": [],
   "source": []
  },
  {
   "cell_type": "code",
   "execution_count": null,
   "metadata": {},
   "outputs": [],
   "source": []
  },
  {
   "cell_type": "code",
   "execution_count": 22,
   "metadata": {},
   "outputs": [],
   "source": [
    "conn.commit()\n",
    "conn.close()"
   ]
  }
 ]
}